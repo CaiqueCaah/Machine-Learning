{
 "cells": [
  {
   "cell_type": "markdown",
   "metadata": {},
   "source": [
    "<h1>Metodos de otmização de Hiper parametro.</h1>"
   ]
  },
  {
   "cell_type": "code",
   "execution_count": 1,
   "metadata": {},
   "outputs": [],
   "source": [
    "# Importando o que precisamos\n",
    "from sklearn.tree import DecisionTreeClassifier\n",
    "from xgboost import XGBClassifier\n",
    "from sklearn.datasets import load_breast_cancer\n",
    "from sklearn.model_selection import cross_val_score"
   ]
  },
  {
   "cell_type": "code",
   "execution_count": 2,
   "metadata": {},
   "outputs": [],
   "source": [
    "# Carregando o conjunto de dados\n",
    "entradas, saida = load_breast_cancer(return_X_y=True)"
   ]
  },
  {
   "cell_type": "code",
   "execution_count": 12,
   "metadata": {},
   "outputs": [
    {
     "name": "stdout",
     "output_type": "stream",
     "text": [
      "[[1.799e+01 1.038e+01 1.228e+02 ... 2.654e-01 4.601e-01 1.189e-01]\n",
      " [2.057e+01 1.777e+01 1.329e+02 ... 1.860e-01 2.750e-01 8.902e-02]\n",
      " [1.969e+01 2.125e+01 1.300e+02 ... 2.430e-01 3.613e-01 8.758e-02]\n",
      " ...\n",
      " [1.660e+01 2.808e+01 1.083e+02 ... 1.418e-01 2.218e-01 7.820e-02]\n",
      " [2.060e+01 2.933e+01 1.401e+02 ... 2.650e-01 4.087e-01 1.240e-01]\n",
      " [7.760e+00 2.454e+01 4.792e+01 ... 0.000e+00 2.871e-01 7.039e-02]]\n"
     ]
    }
   ],
   "source": [
    "print(entradas)"
   ]
  },
  {
   "cell_type": "code",
   "execution_count": 13,
   "metadata": {},
   "outputs": [
    {
     "name": "stdout",
     "output_type": "stream",
     "text": [
      "[0 0 0 0 0 0 0 0 0 0 0 0 0 0 0 0 0 0 0 1 1 1 0 0 0 0 0 0 0 0 0 0 0 0 0 0 0\n",
      " 1 0 0 0 0 0 0 0 0 1 0 1 1 1 1 1 0 0 1 0 0 1 1 1 1 0 1 0 0 1 1 1 1 0 1 0 0\n",
      " 1 0 1 0 0 1 1 1 0 0 1 0 0 0 1 1 1 0 1 1 0 0 1 1 1 0 0 1 1 1 1 0 1 1 0 1 1\n",
      " 1 1 1 1 1 1 0 0 0 1 0 0 1 1 1 0 0 1 0 1 0 0 1 0 0 1 1 0 1 1 0 1 1 1 1 0 1\n",
      " 1 1 1 1 1 1 1 1 0 1 1 1 1 0 0 1 0 1 1 0 0 1 1 0 0 1 1 1 1 0 1 1 0 0 0 1 0\n",
      " 1 0 1 1 1 0 1 1 0 0 1 0 0 0 0 1 0 0 0 1 0 1 0 1 1 0 1 0 0 0 0 1 1 0 0 1 1\n",
      " 1 0 1 1 1 1 1 0 0 1 1 0 1 1 0 0 1 0 1 1 1 1 0 1 1 1 1 1 0 1 0 0 0 0 0 0 0\n",
      " 0 0 0 0 0 0 0 1 1 1 1 1 1 0 1 0 1 1 0 1 1 0 1 0 0 1 1 1 1 1 1 1 1 1 1 1 1\n",
      " 1 0 1 1 0 1 0 1 1 1 1 1 1 1 1 1 1 1 1 1 1 0 1 1 1 0 1 0 1 1 1 1 0 0 0 1 1\n",
      " 1 1 0 1 0 1 0 1 1 1 0 1 1 1 1 1 1 1 0 0 0 1 1 1 1 1 1 1 1 1 1 1 0 0 1 0 0\n",
      " 0 1 0 0 1 1 1 1 1 0 1 1 1 1 1 0 1 1 1 0 1 1 0 0 1 1 1 1 1 1 0 1 1 1 1 1 1\n",
      " 1 0 1 1 1 1 1 0 1 1 0 1 1 1 1 1 1 1 1 1 1 1 1 0 1 0 0 1 0 1 1 1 1 1 0 1 1\n",
      " 0 1 0 1 1 0 1 0 1 1 1 1 1 1 1 1 0 0 1 1 1 1 1 1 0 1 1 1 1 1 1 1 1 1 1 0 1\n",
      " 1 1 1 1 1 1 0 1 0 1 1 0 1 1 1 1 1 0 0 1 0 1 0 1 1 1 1 1 0 1 1 0 1 0 1 0 0\n",
      " 1 1 1 0 1 1 1 1 1 1 1 1 1 1 1 0 1 0 0 1 1 1 1 1 1 1 1 1 1 1 1 1 1 1 1 1 1\n",
      " 1 1 1 1 1 1 1 0 0 0 0 0 0 1]\n"
     ]
    }
   ],
   "source": [
    "print(saida)"
   ]
  },
  {
   "cell_type": "code",
   "execution_count": 3,
   "metadata": {},
   "outputs": [
    {
     "name": "stdout",
     "output_type": "stream",
     "text": [
      "Desempenho médio de AUC-ROC: 0.916\n"
     ]
    }
   ],
   "source": [
    "# Vamos passar o modelo preditivo, os dados de entrada e saida, a funcao de desempenho e o numero de particoes para a funcao de \n",
    "# validacao cruzada\n",
    "desempenho_cross_val = cross_val_score(estimator = DecisionTreeClassifier(random_state=37),\n",
    "                                       X = entradas, \n",
    "                                       y = saida,\n",
    "                                       scoring = 'roc_auc',\n",
    "                                       cv = 3)\n",
    "\n",
    "print('Desempenho médio de AUC-ROC: {}'.format(round(desempenho_cross_val.mean(),3)))"
   ]
  },
  {
   "cell_type": "markdown",
   "metadata": {},
   "source": [
    "<h2>1. Grid Search</h2>"
   ]
  },
  {
   "cell_type": "markdown",
   "metadata": {},
   "source": [
    "<p>\n",
    "    Possivelmente o caso mais ingênuo e mais simples. O <b>Grid Search</b>, ou busca em grade, é um algoritmo de busca que recebe uma conjunto de valores de um ou mais hiperparâmetros e testa todas as combinações dentro dessa vizinhança.<br>\n",
    "    O algoritmo tabela qual foi o desempenho de cada configuração e ao final de todos os testes, fala qual é a melhor escolha.<br>\n",
    "    Atualmente, existem alternativas muito melhores que o <b>Grid Search</b>, mas vale a pena citá-lo por sua simplicidade.\n",
    "    </p>"
   ]
  },
  {
   "cell_type": "code",
   "execution_count": 7,
   "metadata": {},
   "outputs": [
    {
     "name": "stdout",
     "output_type": "stream",
     "text": [
      "Melhor comprimento máximo: 3\n",
      "Desempenho AUC-ROC do melhor modelo: 0.923\n",
      "Tempo para realizar a otimização:\n",
      "1.24 s ± 0 ns per loop (mean ± std. dev. of 1 run, 1 loop each)\n"
     ]
    }
   ],
   "source": [
    "# Importando o Grid Search com cross-validation\n",
    "from sklearn.model_selection import GridSearchCV\n",
    "\n",
    "# Vamos passar para o GridSearchCV o modelo preditivo, a vizinhança de hiperparâmetros,\n",
    "# a função de desemepnho e o número de partições do conjunto de dados:\n",
    "grid_search_cv = GridSearchCV(estimator = DecisionTreeClassifier(random_state = 37),\n",
    "                              param_grid = {'max_depth':range(1,50)}, # Testando comprimentos máximos de 1 a 50\n",
    "                              scoring='roc_auc', cv = 3)\n",
    "\n",
    "# Realizando a otimização por GridSearch para os dados de cancer de mama:\n",
    "grid_search_cv.fit(entradas,saida)\n",
    "\n",
    "#Vamos ver informações relevantes:\n",
    "print('Melhor comprimento máximo: {}'.format(grid_search_cv.best_params_['max_depth']))\n",
    "print('Desempenho AUC-ROC do melhor modelo: {}'.format(round(grid_search_cv.best_score_,3)))\n",
    "print('Tempo para realizar a otimização:')\n",
    "%timeit -n 1 -r 1 grid_search_cv.fit(entradas,saida)"
   ]
  },
  {
   "cell_type": "markdown",
   "metadata": {},
   "source": [
    "<p>\n",
    "    Podemos ver que o modelo selecionou uma árvore de decisão com máximo comprimento 3 e performou melhor que a árvore sem otimização!<br>\n",
    "    Também vimos o tempo de execução, por volta de 1.15 s, que vai ser útil para comparar com os outros algoritmos.\n",
    "    </p>"
   ]
  },
  {
   "cell_type": "markdown",
   "metadata": {},
   "source": [
    "<h2>2. Random Search</h2>"
   ]
  },
  {
   "cell_type": "markdown",
   "metadata": {},
   "source": [
    "<p>\n",
    "    Este algoritmo é muito parecido com o <b>Grid Search</b>, exceto por um motivo: ao invés de testar todas as combinações na vizinhança, o <b>Random Search</b>, ou busca aleatória, testa combinações aleatórias de hiperparâmetros, conforme um número especificado de amostras a tirar.<br>\n",
    "    \n",
    "Ele é uma alternativa para o <b>Grid Search</b> quando o conjunto de dados é muito grande, ou há um número muito grande de hiperparâmetros para otimizar.<br> \n",
    "    Para mostrar essas vantagens, vamos aproveitar para otimizar também outros hiperparâmetros da árvore de decisão.\n",
    "</p>"
   ]
  },
  {
   "cell_type": "code",
   "execution_count": null,
   "metadata": {},
   "outputs": [],
   "source": [
    "from sklearn.model_selection import RandomizedSearchCV\n",
    "\n",
    "# Definindo o Random Search CV. Vamos fornecer o argumento n_iter, que fala quantas configurações de hparams testar:\n",
    "random_search_cv = RandomizedSearchCV(estimator = DecisionTreeClassifier(random_state = 37),\n",
    "                              param_distributions = {'max_depth':range(1,50), # Testando comprimentos máximos de 1 a 50\n",
    "                                                     'min_samples_leaf':range(1,20)} , # O mínimo de amostras por folha, de 1 a 20\n",
    "                              scoring='roc_auc', \n",
    "                              cv = 3,\n",
    "                              n_iter = 50)\n",
    "\n",
    "# Realizando a otimização por GridSearch para os dados de cancer de mama:\n",
    "random_search_cv.fit(entradas,saida)\n",
    "\n",
    "#Vamos ver informações relevantes:\n",
    "print('Melhor comprimento máximo: {}'.format(random_search_cv.best_params_['max_depth']))\n",
    "print('Melhor minimo de amostras por folha: {}'.format(random_search_cv.best_params_['min_samples_leaf']))\n",
    "print('Desempenho AUC-ROC do melhor modelo: {}'.format(round(random_search_cv.best_score_,3)))\n",
    "print('Tempo para realizar a otimização:')\n",
    "%timeit -n 1 -r 1 random_search_cv.fit(entradas,saida)"
   ]
  },
  {
   "cell_type": "markdown",
   "metadata": {},
   "source": [
    "<p>\n",
    "    Muito bom!<br>\n",
    "    Conseguimos aumentar o desempenho do modelo e ainda diminuir o tempo de execução.<br>\n",
    "    Para conjuntos de dados maiores, essa melhoria aumenta mais ainda.<br>\n",
    "    Porém, ainda existem alternativas mais sofisticadas e mais rápidas que Random Search…\n",
    "    </p>"
   ]
  },
  {
   "cell_type": "markdown",
   "metadata": {},
   "source": [
    "<h2>3. Bayes Search</h2>"
   ]
  },
  {
   "cell_type": "markdown",
   "metadata": {},
   "source": [
    "<p>\n",
    "    Subindo na liga dos algoritmos de otimização, nos deparamos com este método. <b>Bayes Search</b>, ou busca bayesiana, tenta estimar qual é a combinação de hiperparâmetros que resultará na maior performance, com base numa distribuição criada a partir das combinações testadas anteriormente.<br>\n",
    "    A grande sacada é forma que esse algoritmo faz as estimativas: <br>\n",
    "    Ele procura as regiões onde há menor confiança na distribuição levantada e, dentro dessas regiões, qual é a que pode ter um valor mais elevado para a performance. Isso fica mais claro com a gif acima!<br>\n",
    "    Assim, a cada iteração da busca bayesiana, a configuração de hiperparâmetros com a maior chance de melhoria é escolhida e a distribuição da performance do modelo é atualizada, permitindo a escolha de um novo ponto.<br>\n",
    "    O ganho de desempenho que esse algoritmo proporciona é brutal em relação aos anteriores e é uma das melhores escolhas para datasets gigantes e modelos com muitos hiperparâmetros.<br>\n",
    "    Vamos buscar ainda mais hiperparâmetros e ampliar o espaço de busca dos que já definimos:\n",
    "    </p>"
   ]
  },
  {
   "cell_type": "code",
   "execution_count": null,
   "metadata": {},
   "outputs": [],
   "source": [
    "# Filtrando avisos \n",
    "import warnings\n",
    "warnings.filterwarnings('ignore')\n",
    "\n",
    "# Importando o Bayes Search com cross-validation:\n",
    "from skopt import BayesSearchCV\n",
    "\n",
    "# Importando espaços de busca\n",
    "from skopt.space import Integer\n",
    "\n",
    "# Definindo o Random Search CV. Vamos fornecer o argumento n_iter, que fala quantas configurações de hparams testar:\n",
    "bayes_search_cv = BayesSearchCV(estimator = DecisionTreeClassifier(random_state = 37),\n",
    "                              search_spaces = {'max_depth':Integer(1,100), # Testando comprimentos máximos de 1 a 50\n",
    "                                              'min_samples_leaf':Integer(1,100)}, # O mínimo de amostras por folha, de 1 a 50\n",
    "                              scoring='roc_auc',\n",
    "                              cv = 3,\n",
    "                              n_iter = 50, random_state=37)\n",
    "\n",
    "# Realizando a otimização por GridSearch para os dados de cancer de mama:\n",
    "bayes_search_cv.fit(entradas,saida)\n",
    "\n",
    "#Vamos ver informações relevantes:\n",
    "print('Melhor comprimento maximo: {}'.format(bayes_search_cv.best_params_['max_depth']))\n",
    "print('Melhor minimo de amostras por folha: {}'.format(bayes_search_cv.best_params_['min_samples_leaf']))\n",
    "print('Desempenho AUC-ROC do melhor modelo: {}'.format(round(bayes_search_cv.best_score_,3)))\n",
    "print('Tempo para realizar a otimização:')\n",
    "%timeit -n 1 -r 1 bayes_search_cv.fit(entradas,saida)"
   ]
  },
  {
   "cell_type": "markdown",
   "metadata": {},
   "source": [
    "<p>\n",
    "   Parece que chegamos no desempenho máximo: <br>\n",
    "   Esse algoritmo de otimização gerou um modelo tão bom quanto o <b>Random Search</b>. <br>\n",
    "   No entanto, notamos uma demora maior de execução — o <b>Bayes Search</b> funciona melhor para treinamentos mais complexos e com espaços de busca muito grandes, então para nosso exemplo, <b>Random Search</b> bastaria. Mas fica o aprendizado para os projetos reais!\n",
    "   </p>"
   ]
  },
  {
   "cell_type": "code",
   "execution_count": null,
   "metadata": {},
   "outputs": [],
   "source": []
  }
 ],
 "metadata": {
  "kernelspec": {
   "display_name": "Python 3",
   "language": "python",
   "name": "python3"
  },
  "language_info": {
   "codemirror_mode": {
    "name": "ipython",
    "version": 3
   },
   "file_extension": ".py",
   "mimetype": "text/x-python",
   "name": "python",
   "nbconvert_exporter": "python",
   "pygments_lexer": "ipython3",
   "version": "3.7.4"
  }
 },
 "nbformat": 4,
 "nbformat_minor": 2
}
